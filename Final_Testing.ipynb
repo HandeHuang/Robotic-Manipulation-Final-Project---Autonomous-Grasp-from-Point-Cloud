{
 "cells": [
  {
   "cell_type": "code",
   "execution_count": 1,
   "id": "4da862fe-2842-4a04-af2e-fdc2a05f78ee",
   "metadata": {},
   "outputs": [
    {
     "name": "stdout",
     "output_type": "stream",
     "text": [
      "Jupyter environment detected. Enabling Open3D WebVisualizer.\n",
      "[Open3D INFO] WebRTC GUI backend enabled.\n",
      "[Open3D INFO] WebRTCWindowSystem: HTTP handshake server disabled.\n"
     ]
    }
   ],
   "source": [
    "import numpy as np\n",
    "import pybullet as p\n",
    "import open3d as o3d\n",
    "import assignment_6_helper as helper"
   ]
  },
  {
   "cell_type": "code",
   "execution_count": 2,
   "id": "28f5a451-7bbf-4f78-a1b1-d2acfed5a9e2",
   "metadata": {},
   "outputs": [],
   "source": [
    "\n",
    "\n",
    "def get_antipodal(pcd):\n",
    "    \"\"\"\n",
    "    function to compute antipodal grasp given point cloud pcd\n",
    "    :param pcd: point cloud in open3d format (converted to numpy below)\n",
    "    :return: gripper pose (4, ) numpy array of gripper pose (x, y, z, theta)\n",
    "    \"\"\"\n",
    "    # convert pcd to numpy arrays of points and normals\n",
    "    pc_points = np.asarray(pcd.points)\n",
    "    pc_normals = np.asarray(pcd.normals)\n",
    "\n",
    "    print(pc_points[0])\n",
    "\n",
    "    # ------------------------------------------------\n",
    "    # FILL WITH YOUR CODE\n",
    "\n",
    "    # gripper orientation - replace 0. with your calculations\n",
    "    theta = 0.\n",
    "    # gripper pose: (x, y, z, theta) - replace 0. with your calculations\n",
    "    gripper_pose = np.array([0.01654522, 0.0515762 , 0.04052635, theta])\n",
    "    # ------------------------------------------------\n",
    "\n",
    "    return gripper_pose"
   ]
  },
  {
   "cell_type": "code",
   "execution_count": 14,
   "id": "30809e26-be4e-46b3-aee5-01db9b56c655",
   "metadata": {},
   "outputs": [],
   "source": [
    "import numpy as np\n",
    "import open3d as o3d\n",
    "import matplotlib.pyplot as plt\n",
    "\n",
    "def find_object_centers(pcd, distance_threshold=0.05, min_points=50):\n",
    "    \"\"\"\n",
    "    Find the centers of separate objects in the point cloud using DBSCAN clustering\n",
    "    and return both the centroids and the segmented point clouds.\n",
    "\n",
    "    :param pcd: open3d.geometry.PointCloud\n",
    "    :param distance_threshold: float, the epsilon parameter for DBSCAN\n",
    "    :param min_points: int, minimum number of points to form a cluster\n",
    "    :return: \n",
    "        centroids: list of centroids as numpy arrays\n",
    "        segmented_pcds: list of open3d.geometry.PointCloud objects for each cluster\n",
    "    \"\"\"\n",
    "    # Optional Preprocessing: Downsample the point cloud for faster processing\n",
    "    down_pcd = pcd.voxel_down_sample(voxel_size=0.005)  # Adjust voxel_size as needed\n",
    "\n",
    "    # Optional Preprocessing: Remove statistical outliers\n",
    "    cl, ind = down_pcd.remove_statistical_outlier(nb_neighbors=20, std_ratio=2.0)\n",
    "    clean_pcd = down_pcd.select_by_index(ind)\n",
    "\n",
    "    # Perform DBSCAN clustering\n",
    "    labels = np.array(clean_pcd.cluster_dbscan(eps=distance_threshold, min_points=min_points, print_progress=True))\n",
    "\n",
    "    if labels.size == 0:\n",
    "        print(\"No clusters found.\")\n",
    "        return [], []\n",
    "\n",
    "    max_label = labels.max()\n",
    "    print(f\"Point cloud has {max_label + 1} clusters\")\n",
    "\n",
    "    if max_label + 1 < 2:\n",
    "        print(\"Less than two clusters found. Adjust DBSCAN parameters.\")\n",
    "        return [], []\n",
    "\n",
    "    # Assume the two largest clusters are the objects\n",
    "    unique_labels, counts = np.unique(labels, return_counts=True)\n",
    "    sorted_indices = np.argsort(counts)[::-1]  # Descending order\n",
    "    top_labels = unique_labels[sorted_indices[:2]]  # Top two clusters\n",
    "\n",
    "    centroids = []\n",
    "    segmented_pcds = []\n",
    "    for label in top_labels:\n",
    "        cluster_indices = np.where(labels == label)[0]\n",
    "        cluster_points = np.asarray(clean_pcd.points)[cluster_indices]\n",
    "        centroid = cluster_points.mean(axis=0)\n",
    "        centroids.append(centroid)\n",
    "        print(f\"Centroid of cluster {label}: {centroid}\")\n",
    "\n",
    "        # Create a new PointCloud for the cluster\n",
    "        cluster_pcd = clean_pcd.select_by_index(cluster_indices.tolist())\n",
    "        segmented_pcds.append(cluster_pcd)\n",
    "\n",
    "    return centroids, segmented_pcds\n"
   ]
  },
  {
   "cell_type": "code",
   "execution_count": 8,
   "id": "5ca083f4-353c-4300-bacf-61a70b52922f",
   "metadata": {},
   "outputs": [],
   "source": [
    "world = helper.World()"
   ]
  },
  {
   "cell_type": "code",
   "execution_count": 9,
   "id": "da000220-4447-41aa-aa66-9d9e4b4084bf",
   "metadata": {},
   "outputs": [],
   "source": [
    "pcd = world.get_point_cloud()"
   ]
  },
  {
   "cell_type": "code",
   "execution_count": 10,
   "id": "2c9f84bd-fe2b-45a2-aa8e-edca27348852",
   "metadata": {
    "scrolled": true
   },
   "outputs": [],
   "source": [
    "pc_points = np.asarray(pcd.points)\n",
    "pc_normals = np.asarray(pcd.normals)"
   ]
  },
  {
   "cell_type": "code",
   "execution_count": 11,
   "id": "f51a2d8f-5824-4555-9b1a-a01b2b22ce3f",
   "metadata": {},
   "outputs": [
    {
     "data": {
      "text/plain": [
       "array([[0.0398135 , 0.17382749, 0.05139165],\n",
       "       [0.04180412, 0.17382642, 0.05139245],\n",
       "       [0.03774101, 0.17053292, 0.05138995],\n",
       "       ...,\n",
       "       [0.03874573, 0.1705783 , 0.00665988],\n",
       "       [0.04168393, 0.1721433 , 0.00639289],\n",
       "       [0.04015917, 0.17252699, 0.00701489]])"
      ]
     },
     "execution_count": 11,
     "metadata": {},
     "output_type": "execute_result"
    }
   ],
   "source": [
    "pc_points"
   ]
  },
  {
   "cell_type": "code",
   "execution_count": 15,
   "id": "eefaba65-2997-4316-9bcf-465250dfce85",
   "metadata": {},
   "outputs": [
    {
     "name": "stdout",
     "output_type": "stream",
     "text": [
      "Point cloud has 2 clusters\n",
      "Centroid of cluster 0: [-0.03388384 -0.02470299  0.03337826]\n",
      "Centroid of cluster 1: [0.0660326  0.12496021 0.03402612]\n"
     ]
    },
    {
     "data": {
      "text/plain": [
       "[array([-0.03388384, -0.02470299,  0.03337826]),\n",
       " array([0.0660326 , 0.12496021, 0.03402612])]"
      ]
     },
     "execution_count": 15,
     "metadata": {},
     "output_type": "execute_result"
    }
   ],
   "source": [
    "centroids, segmented_pcds = find_object_centers(pcd)\n",
    "centroids"
   ]
  },
  {
   "cell_type": "code",
   "execution_count": 18,
   "id": "6a9040b9-2a43-47ec-ac05-7b81f2009b51",
   "metadata": {},
   "outputs": [
    {
     "name": "stdout",
     "output_type": "stream",
     "text": [
      "No points within delta_z. Selected closest point to plane for centroid [-0.03388384 -0.02470299  0.03337826]: [-0.04999192 -0.00671114  0.03313947]\n"
     ]
    }
   ],
   "source": [
    "delta_z=0.01\n",
    "\n",
    "centroid = centroids[0]\n",
    "object_points = np.asarray(segmented_pcds[0].points)\n",
    "# Define the plane z = centroid_z with a tolerance\n",
    "centroid_z = centroid[2]\n",
    "mask = np.abs(object_points[:, 2] - centroid_z) < delta_z\n",
    "points_on_plane = object_points[mask]\n",
    "# if points_on_plane.shape[0] > 0:\n",
    "#     # Compute distances in x and y from the centroid\n",
    "#     distances_xy = np.linalg.norm(points_on_plane[:, :2] - centroid[:2], axis=1)\n",
    "#     closest_idx = np.argmin(distances_xy)\n",
    "#     grasp_point = points_on_plane[closest_idx]\n",
    "#     print(f\"Found point on plane for centroid {centroid}: {grasp_point}\")\n",
    "# else:\n",
    "# If no points are exactly on the plane, find the point closest to the plane\n",
    "z_diff = np.abs(object_points[:, 2] - centroid_z)\n",
    "closest_z_idx = np.argmin(z_diff)\n",
    "grasp_point = object_points[closest_z_idx]\n",
    "print(f\"No points within delta_z. Selected closest point to plane for centroid {centroid}: {grasp_point}\")"
   ]
  },
  {
   "cell_type": "code",
   "execution_count": null,
   "id": "f3f9214c-d251-4ec8-be2e-9fad3688c7f3",
   "metadata": {},
   "outputs": [],
   "source": []
  },
  {
   "cell_type": "code",
   "execution_count": null,
   "id": "b3a92143-2f5e-45a0-8877-a4e9b1c0d1a0",
   "metadata": {},
   "outputs": [],
   "source": []
  },
  {
   "cell_type": "code",
   "execution_count": null,
   "id": "fb3b9727-ae2f-4b93-9b07-24c6aaab00dd",
   "metadata": {},
   "outputs": [],
   "source": []
  },
  {
   "cell_type": "code",
   "execution_count": 13,
   "id": "7f6c51f2-8577-49d1-b340-58c4acbf491d",
   "metadata": {},
   "outputs": [],
   "source": [
    "# terminate simulation environment once you're done!\n",
    "p.disconnect()"
   ]
  },
  {
   "cell_type": "code",
   "execution_count": null,
   "id": "0058dd91-5f5b-4199-afe0-1bfc2086e018",
   "metadata": {},
   "outputs": [],
   "source": []
  },
  {
   "cell_type": "code",
   "execution_count": null,
   "id": "e1bef233-c22f-45ec-9dfc-24fdc6a02bb9",
   "metadata": {},
   "outputs": [],
   "source": []
  },
  {
   "cell_type": "code",
   "execution_count": null,
   "id": "bc7b7d3e-46e8-4c14-a034-c6ae2382091c",
   "metadata": {},
   "outputs": [],
   "source": []
  },
  {
   "cell_type": "code",
   "execution_count": 5,
   "id": "2e9313f6-a14e-4807-acf1-b814bfd36745",
   "metadata": {},
   "outputs": [
    {
     "ename": "error",
     "evalue": "Only one local in-process GUI/GUI_SERVER connection allowed. Use DIRECT connection mode or start a separate GUI physics server (ExampleBrowser, App_SharedMemoryPhysics_GUI, App_SharedMemoryPhysics_VR) and connect over SHARED_MEMORY, UDP or TCP instead.",
     "output_type": "error",
     "traceback": [
      "\u001b[1;31m---------------------------------------------------------------------------\u001b[0m",
      "\u001b[1;31merror\u001b[0m                                     Traceback (most recent call last)",
      "Cell \u001b[1;32mIn[5], line 3\u001b[0m\n\u001b[0;32m      1\u001b[0m n_tries \u001b[38;5;241m=\u001b[39m \u001b[38;5;241m1\u001b[39m\n\u001b[0;32m      2\u001b[0m \u001b[38;5;66;03m# Initialize the world\u001b[39;00m\n\u001b[1;32m----> 3\u001b[0m world \u001b[38;5;241m=\u001b[39m helper\u001b[38;5;241m.\u001b[39mWorld()\n\u001b[0;32m      5\u001b[0m \u001b[38;5;66;03m# start grasping loop\u001b[39;00m\n\u001b[0;32m      6\u001b[0m \u001b[38;5;66;03m# number of tries for grasping\u001b[39;00m\n\u001b[0;32m      7\u001b[0m \u001b[38;5;28;01mfor\u001b[39;00m i \u001b[38;5;129;01min\u001b[39;00m \u001b[38;5;28mrange\u001b[39m(n_tries):\n\u001b[0;32m      8\u001b[0m     \u001b[38;5;66;03m# get point cloud from cameras in the world\u001b[39;00m\n",
      "File \u001b[1;32m~\\Desktop\\2024 Fall\\ROB 498 - Intro to Robotic Manipulation\\Assignments\\Assignment 6\\assignment_6\\assignment_6_helper.py:33\u001b[0m, in \u001b[0;36mWorld.__init__\u001b[1;34m(self, u_list, p_list, visualize)\u001b[0m\n\u001b[0;32m     30\u001b[0m \u001b[38;5;28;01mdef\u001b[39;00m \u001b[38;5;21m__init__\u001b[39m(\u001b[38;5;28mself\u001b[39m, u_list\u001b[38;5;241m=\u001b[39m\u001b[38;5;28;01mNone\u001b[39;00m, p_list\u001b[38;5;241m=\u001b[39m\u001b[38;5;28;01mNone\u001b[39;00m, visualize\u001b[38;5;241m=\u001b[39m\u001b[38;5;28;01mTrue\u001b[39;00m):\n\u001b[0;32m     31\u001b[0m     \u001b[38;5;66;03m# initialize the simulator and blocks\u001b[39;00m\n\u001b[0;32m     32\u001b[0m     \u001b[38;5;28;01mif\u001b[39;00m visualize:\n\u001b[1;32m---> 33\u001b[0m         \u001b[38;5;28mself\u001b[39m\u001b[38;5;241m.\u001b[39mphysicsClient \u001b[38;5;241m=\u001b[39m p\u001b[38;5;241m.\u001b[39mconnect(p\u001b[38;5;241m.\u001b[39mGUI)\n\u001b[0;32m     34\u001b[0m     \u001b[38;5;28;01melse\u001b[39;00m:\n\u001b[0;32m     35\u001b[0m         \u001b[38;5;28mself\u001b[39m\u001b[38;5;241m.\u001b[39mphysicsClient \u001b[38;5;241m=\u001b[39m p\u001b[38;5;241m.\u001b[39mconnect(p\u001b[38;5;241m.\u001b[39mDIRECT)\n",
      "\u001b[1;31merror\u001b[0m: Only one local in-process GUI/GUI_SERVER connection allowed. Use DIRECT connection mode or start a separate GUI physics server (ExampleBrowser, App_SharedMemoryPhysics_GUI, App_SharedMemoryPhysics_VR) and connect over SHARED_MEMORY, UDP or TCP instead."
     ]
    }
   ],
   "source": [
    "n_tries = 1\n",
    "# Initialize the world\n",
    "world = helper.World()\n",
    "\n",
    "# start grasping loop\n",
    "# number of tries for grasping\n",
    "for i in range(n_tries):\n",
    "    # get point cloud from cameras in the world\n",
    "    pcd = world.get_point_cloud()\n",
    "    # check point cloud to see if there are still objects to remove\n",
    "    finish_flag = helper.check_pc(pcd)\n",
    "    if finish_flag:  # if no more objects -- done!\n",
    "        print('===============')\n",
    "        print('Scene cleared')\n",
    "        print('===============')\n",
    "        break\n",
    "    # visualize the point cloud from the scene\n",
    "    helper.draw_pc(pcd)\n",
    "    # compute antipodal grasp\n",
    "    gripper_pose = get_antipodal(pcd)\n",
    "    # send command to robot to execute\n",
    "    robot_command = world.grasp(gripper_pose)\n",
    "    # robot drops object to the side\n",
    "    world.drop_in_bin(robot_command)\n",
    "    # robot goes to initial configuration and prepares for next grasp\n",
    "    world.home_arm()\n",
    "    # go back to the top!\n",
    "\n",
    "# terminate simulation environment once you're done!\n",
    "p.disconnect()"
   ]
  },
  {
   "cell_type": "code",
   "execution_count": null,
   "id": "1bb7c6ff-c703-4342-8524-c20c669f63bb",
   "metadata": {},
   "outputs": [],
   "source": []
  },
  {
   "cell_type": "code",
   "execution_count": null,
   "id": "68005299-94e8-435f-9747-f9782708912b",
   "metadata": {},
   "outputs": [],
   "source": []
  },
  {
   "cell_type": "code",
   "execution_count": null,
   "id": "b8e76d4c-b1f3-4a90-9698-12988c98b530",
   "metadata": {},
   "outputs": [],
   "source": []
  },
  {
   "cell_type": "code",
   "execution_count": null,
   "id": "889f8dbb-a5c9-4d80-bb45-7e8a2a080f9f",
   "metadata": {},
   "outputs": [],
   "source": []
  },
  {
   "cell_type": "code",
   "execution_count": null,
   "id": "1d9fc470-e971-4da6-8f21-588e8de23e9f",
   "metadata": {},
   "outputs": [],
   "source": []
  },
  {
   "cell_type": "code",
   "execution_count": null,
   "id": "559ef8dd-8542-49b0-a962-51c27a13807f",
   "metadata": {},
   "outputs": [],
   "source": []
  },
  {
   "cell_type": "code",
   "execution_count": null,
   "id": "b08f9e92-4aec-4adb-b696-99d92e5df859",
   "metadata": {},
   "outputs": [],
   "source": []
  }
 ],
 "metadata": {
  "kernelspec": {
   "display_name": "Python 3 (ipykernel)",
   "language": "python",
   "name": "python3"
  },
  "language_info": {
   "codemirror_mode": {
    "name": "ipython",
    "version": 3
   },
   "file_extension": ".py",
   "mimetype": "text/x-python",
   "name": "python",
   "nbconvert_exporter": "python",
   "pygments_lexer": "ipython3",
   "version": "3.11.5"
  }
 },
 "nbformat": 4,
 "nbformat_minor": 5
}
